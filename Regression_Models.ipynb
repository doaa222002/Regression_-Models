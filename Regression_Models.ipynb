{
 "cells": [
  {
   "cell_type": "markdown",
   "id": "236c80ae-75db-4c49-9286-a1ac7d29b48c",
   "metadata": {},
   "source": [
    "# Regression Models"
   ]
  },
  {
   "cell_type": "markdown",
   "id": "42c5fdd8-f927-4050-84f0-f06daf77d05b",
   "metadata": {},
   "source": [
    "# 1-Import Libraries"
   ]
  },
  {
   "cell_type": "code",
   "execution_count": 1,
   "id": "4494dd70-33b0-4e8a-9615-403f48464e33",
   "metadata": {},
   "outputs": [],
   "source": [
    "import numpy as np \n",
    "import pandas as pd \n",
    "import seaborn as sns\n",
    "import matplotlib.pyplot as plt\n",
    "# for preprocessing \n",
    "from sklearn.preprocessing import OneHotEncoder ,StandardScaler,OrdinalEncoder\n",
    "from sklearn.compose import ColumnTransformer\n",
    "from sklearn.model_selection import train_test_split\n",
    "# for evaluation \n",
    "from sklearn.metrics import mean_absolute_error,mean_squared_error,r2_score\n",
    "\n",
    "#models \n",
    "from sklearn.linear_model import LinearRegression\n",
    "from sklearn.neighbors import KNeighborsRegressor\n",
    "from sklearn.tree import DecisionTreeRegressor\n",
    "from sklearn.ensemble import RandomForestRegressor\n",
    "from xgboost import XGBRegressor\n",
    "\n",
    "import category_encoders as ce\n",
    "import plotly.express as px\n",
    "from sklearn.preprocessing import LabelEncoder\n",
    "from sklearn.metrics import classification_report , confusion_matrix\n",
    "from sklearn.neighbors import KNeighborsClassifier\n",
    "from sklearn import svm \n",
    "from sklearn.svm import SVC\n",
    "from mlxtend.plotting import plot_decision_regions\n",
    "from sklearn.model_selection import GridSearchCV\n",
    "\n",
    "from sklearn import preprocessing\n"
   ]
  },
  {
   "cell_type": "markdown",
   "id": "9038543e-3014-439a-a145-915caa7a19a7",
   "metadata": {},
   "source": [
    "# 2-Read Dataset "
   ]
  },
  {
   "cell_type": "code",
   "execution_count": 3,
   "id": "74b91da6-1c32-4451-9a90-0aaf47a918f7",
   "metadata": {},
   "outputs": [],
   "source": [
    "df=pd.read_csv('E:/Dataset/StudentsPerformance.csv')"
   ]
  },
  {
   "cell_type": "code",
   "execution_count": 4,
   "id": "381f8157-6eeb-4188-994b-0f4c86f86dc5",
   "metadata": {},
   "outputs": [
    {
     "data": {
      "text/html": [
       "<div>\n",
       "<style scoped>\n",
       "    .dataframe tbody tr th:only-of-type {\n",
       "        vertical-align: middle;\n",
       "    }\n",
       "\n",
       "    .dataframe tbody tr th {\n",
       "        vertical-align: top;\n",
       "    }\n",
       "\n",
       "    .dataframe thead th {\n",
       "        text-align: right;\n",
       "    }\n",
       "</style>\n",
       "<table border=\"1\" class=\"dataframe\">\n",
       "  <thead>\n",
       "    <tr style=\"text-align: right;\">\n",
       "      <th></th>\n",
       "      <th>gender</th>\n",
       "      <th>race/ethnicity</th>\n",
       "      <th>parental level of education</th>\n",
       "      <th>lunch</th>\n",
       "      <th>test preparation course</th>\n",
       "      <th>math score</th>\n",
       "      <th>reading score</th>\n",
       "      <th>writing score</th>\n",
       "    </tr>\n",
       "  </thead>\n",
       "  <tbody>\n",
       "    <tr>\n",
       "      <th>0</th>\n",
       "      <td>female</td>\n",
       "      <td>group B</td>\n",
       "      <td>bachelor's degree</td>\n",
       "      <td>standard</td>\n",
       "      <td>none</td>\n",
       "      <td>72</td>\n",
       "      <td>72</td>\n",
       "      <td>74</td>\n",
       "    </tr>\n",
       "    <tr>\n",
       "      <th>1</th>\n",
       "      <td>female</td>\n",
       "      <td>group C</td>\n",
       "      <td>some college</td>\n",
       "      <td>standard</td>\n",
       "      <td>completed</td>\n",
       "      <td>69</td>\n",
       "      <td>90</td>\n",
       "      <td>88</td>\n",
       "    </tr>\n",
       "    <tr>\n",
       "      <th>2</th>\n",
       "      <td>female</td>\n",
       "      <td>group B</td>\n",
       "      <td>master's degree</td>\n",
       "      <td>standard</td>\n",
       "      <td>none</td>\n",
       "      <td>90</td>\n",
       "      <td>95</td>\n",
       "      <td>93</td>\n",
       "    </tr>\n",
       "    <tr>\n",
       "      <th>3</th>\n",
       "      <td>male</td>\n",
       "      <td>group A</td>\n",
       "      <td>associate's degree</td>\n",
       "      <td>free/reduced</td>\n",
       "      <td>none</td>\n",
       "      <td>47</td>\n",
       "      <td>57</td>\n",
       "      <td>44</td>\n",
       "    </tr>\n",
       "    <tr>\n",
       "      <th>4</th>\n",
       "      <td>male</td>\n",
       "      <td>group C</td>\n",
       "      <td>some college</td>\n",
       "      <td>standard</td>\n",
       "      <td>none</td>\n",
       "      <td>76</td>\n",
       "      <td>78</td>\n",
       "      <td>75</td>\n",
       "    </tr>\n",
       "  </tbody>\n",
       "</table>\n",
       "</div>"
      ],
      "text/plain": [
       "   gender race/ethnicity parental level of education         lunch  \\\n",
       "0  female        group B           bachelor's degree      standard   \n",
       "1  female        group C                some college      standard   \n",
       "2  female        group B             master's degree      standard   \n",
       "3    male        group A          associate's degree  free/reduced   \n",
       "4    male        group C                some college      standard   \n",
       "\n",
       "  test preparation course  math score  reading score  writing score  \n",
       "0                    none          72             72             74  \n",
       "1               completed          69             90             88  \n",
       "2                    none          90             95             93  \n",
       "3                    none          47             57             44  \n",
       "4                    none          76             78             75  "
      ]
     },
     "execution_count": 4,
     "metadata": {},
     "output_type": "execute_result"
    }
   ],
   "source": [
    "df.head()"
   ]
  },
  {
   "cell_type": "markdown",
   "id": "44a813c0-0b00-4d61-a35c-bb780a15052b",
   "metadata": {},
   "source": [
    "# 3-Data Exploration"
   ]
  },
  {
   "cell_type": "code",
   "execution_count": 5,
   "id": "5646748a-531a-4d4d-aaf6-431f851ac6ae",
   "metadata": {},
   "outputs": [
    {
     "name": "stdout",
     "output_type": "stream",
     "text": [
      "<class 'pandas.core.frame.DataFrame'>\n",
      "RangeIndex: 1000 entries, 0 to 999\n",
      "Data columns (total 8 columns):\n",
      " #   Column                       Non-Null Count  Dtype \n",
      "---  ------                       --------------  ----- \n",
      " 0   gender                       1000 non-null   object\n",
      " 1   race/ethnicity               1000 non-null   object\n",
      " 2   parental level of education  1000 non-null   object\n",
      " 3   lunch                        1000 non-null   object\n",
      " 4   test preparation course      1000 non-null   object\n",
      " 5   math score                   1000 non-null   int64 \n",
      " 6   reading score                1000 non-null   int64 \n",
      " 7   writing score                1000 non-null   int64 \n",
      "dtypes: int64(3), object(5)\n",
      "memory usage: 62.6+ KB\n"
     ]
    }
   ],
   "source": [
    "df.info()"
   ]
  },
  {
   "cell_type": "code",
   "execution_count": 6,
   "id": "5df36957-134d-4375-98f7-2a631b2f92ce",
   "metadata": {},
   "outputs": [
    {
     "data": {
      "text/plain": [
       "array(['female', 'male'], dtype=object)"
      ]
     },
     "execution_count": 6,
     "metadata": {},
     "output_type": "execute_result"
    }
   ],
   "source": [
    "df['gender'].unique()"
   ]
  },
  {
   "cell_type": "code",
   "execution_count": 7,
   "id": "9a5a0d6d-7709-4173-b00a-bd98fd4d1443",
   "metadata": {},
   "outputs": [
    {
     "data": {
      "text/plain": [
       "array(['group B', 'group C', 'group A', 'group D', 'group E'],\n",
       "      dtype=object)"
      ]
     },
     "execution_count": 7,
     "metadata": {},
     "output_type": "execute_result"
    }
   ],
   "source": [
    "df['race/ethnicity'].unique()"
   ]
  },
  {
   "cell_type": "code",
   "execution_count": 8,
   "id": "ffe50095-c914-4c59-bf2c-7d00299e3dca",
   "metadata": {},
   "outputs": [
    {
     "data": {
      "text/plain": [
       "array([\"bachelor's degree\", 'some college', \"master's degree\",\n",
       "       \"associate's degree\", 'high school', 'some high school'],\n",
       "      dtype=object)"
      ]
     },
     "execution_count": 8,
     "metadata": {},
     "output_type": "execute_result"
    }
   ],
   "source": [
    "df['parental level of education'].unique()"
   ]
  },
  {
   "cell_type": "code",
   "execution_count": 9,
   "id": "a932263a-9596-47d3-add7-dc49cb1adfed",
   "metadata": {},
   "outputs": [
    {
     "data": {
      "text/plain": [
       "array(['standard', 'free/reduced'], dtype=object)"
      ]
     },
     "execution_count": 9,
     "metadata": {},
     "output_type": "execute_result"
    }
   ],
   "source": [
    "df['lunch'].unique()"
   ]
  },
  {
   "cell_type": "code",
   "execution_count": 10,
   "id": "2edff376-a003-4875-8a1a-d41b5963b076",
   "metadata": {},
   "outputs": [
    {
     "data": {
      "text/plain": [
       "array(['none', 'completed'], dtype=object)"
      ]
     },
     "execution_count": 10,
     "metadata": {},
     "output_type": "execute_result"
    }
   ],
   "source": [
    "df['test preparation course'].unique()"
   ]
  },
  {
   "cell_type": "markdown",
   "id": "fca0e550-f0fa-44cb-8ad7-dfbf506b55ee",
   "metadata": {},
   "source": [
    "# 4-Data Splitting To Features&Labels"
   ]
  },
  {
   "cell_type": "code",
   "execution_count": 11,
   "id": "1c0bdc6d-029c-4846-a7ea-a9ca57862699",
   "metadata": {},
   "outputs": [
    {
     "data": {
      "text/plain": [
       "0    72\n",
       "1    69\n",
       "2    90\n",
       "3    47\n",
       "4    76\n",
       "Name: math score, dtype: int64"
      ]
     },
     "execution_count": 11,
     "metadata": {},
     "output_type": "execute_result"
    }
   ],
   "source": [
    "# y--> labels of data\n",
    "y=df['math score']\n",
    "y.head()"
   ]
  },
  {
   "cell_type": "code",
   "execution_count": 12,
   "id": "82f81330-a9b4-4c1b-a9d5-564a0b1dc6e7",
   "metadata": {},
   "outputs": [
    {
     "data": {
      "text/html": [
       "<div>\n",
       "<style scoped>\n",
       "    .dataframe tbody tr th:only-of-type {\n",
       "        vertical-align: middle;\n",
       "    }\n",
       "\n",
       "    .dataframe tbody tr th {\n",
       "        vertical-align: top;\n",
       "    }\n",
       "\n",
       "    .dataframe thead th {\n",
       "        text-align: right;\n",
       "    }\n",
       "</style>\n",
       "<table border=\"1\" class=\"dataframe\">\n",
       "  <thead>\n",
       "    <tr style=\"text-align: right;\">\n",
       "      <th></th>\n",
       "      <th>gender</th>\n",
       "      <th>race/ethnicity</th>\n",
       "      <th>parental level of education</th>\n",
       "      <th>lunch</th>\n",
       "      <th>test preparation course</th>\n",
       "      <th>reading score</th>\n",
       "      <th>writing score</th>\n",
       "    </tr>\n",
       "  </thead>\n",
       "  <tbody>\n",
       "    <tr>\n",
       "      <th>0</th>\n",
       "      <td>female</td>\n",
       "      <td>group B</td>\n",
       "      <td>bachelor's degree</td>\n",
       "      <td>standard</td>\n",
       "      <td>none</td>\n",
       "      <td>72</td>\n",
       "      <td>74</td>\n",
       "    </tr>\n",
       "    <tr>\n",
       "      <th>1</th>\n",
       "      <td>female</td>\n",
       "      <td>group C</td>\n",
       "      <td>some college</td>\n",
       "      <td>standard</td>\n",
       "      <td>completed</td>\n",
       "      <td>90</td>\n",
       "      <td>88</td>\n",
       "    </tr>\n",
       "    <tr>\n",
       "      <th>2</th>\n",
       "      <td>female</td>\n",
       "      <td>group B</td>\n",
       "      <td>master's degree</td>\n",
       "      <td>standard</td>\n",
       "      <td>none</td>\n",
       "      <td>95</td>\n",
       "      <td>93</td>\n",
       "    </tr>\n",
       "    <tr>\n",
       "      <th>3</th>\n",
       "      <td>male</td>\n",
       "      <td>group A</td>\n",
       "      <td>associate's degree</td>\n",
       "      <td>free/reduced</td>\n",
       "      <td>none</td>\n",
       "      <td>57</td>\n",
       "      <td>44</td>\n",
       "    </tr>\n",
       "    <tr>\n",
       "      <th>4</th>\n",
       "      <td>male</td>\n",
       "      <td>group C</td>\n",
       "      <td>some college</td>\n",
       "      <td>standard</td>\n",
       "      <td>none</td>\n",
       "      <td>78</td>\n",
       "      <td>75</td>\n",
       "    </tr>\n",
       "  </tbody>\n",
       "</table>\n",
       "</div>"
      ],
      "text/plain": [
       "   gender race/ethnicity parental level of education         lunch  \\\n",
       "0  female        group B           bachelor's degree      standard   \n",
       "1  female        group C                some college      standard   \n",
       "2  female        group B             master's degree      standard   \n",
       "3    male        group A          associate's degree  free/reduced   \n",
       "4    male        group C                some college      standard   \n",
       "\n",
       "  test preparation course  reading score  writing score  \n",
       "0                    none             72             74  \n",
       "1               completed             90             88  \n",
       "2                    none             95             93  \n",
       "3                    none             57             44  \n",
       "4                    none             78             75  "
      ]
     },
     "execution_count": 12,
     "metadata": {},
     "output_type": "execute_result"
    }
   ],
   "source": [
    "# x---> Features of data\n",
    "x=df.drop(columns= ['math score'],axis=1)\n",
    "x.head()"
   ]
  },
  {
   "cell_type": "markdown",
   "id": "2263eca6-482d-46c6-ab55-8e662b8771e6",
   "metadata": {},
   "source": [
    "# 5-Data Preprocessing"
   ]
  },
  {
   "cell_type": "code",
   "execution_count": 13,
   "id": "1a3290b3-e42b-45f9-bae0-21adcb0d74e9",
   "metadata": {},
   "outputs": [
    {
     "data": {
      "text/plain": [
       "Index(['reading score', 'writing score'], dtype='object')"
      ]
     },
     "execution_count": 13,
     "metadata": {},
     "output_type": "execute_result"
    }
   ],
   "source": [
    "# select numerical columns\n",
    "numerical_df=x.select_dtypes(exclude='object').columns\n",
    "numerical_df"
   ]
  },
  {
   "cell_type": "code",
   "execution_count": 14,
   "id": "adb1dce4-c1d1-4a94-bef8-6477a52c61c5",
   "metadata": {},
   "outputs": [
    {
     "data": {
      "text/plain": [
       "Index(['gender', 'race/ethnicity', 'parental level of education', 'lunch',\n",
       "       'test preparation course'],\n",
       "      dtype='object')"
      ]
     },
     "execution_count": 14,
     "metadata": {},
     "output_type": "execute_result"
    }
   ],
   "source": [
    "# select categorical columns \n",
    "categorical_df=x.select_dtypes(include ='object').columns\n",
    "categorical_df"
   ]
  },
  {
   "cell_type": "code",
   "execution_count": 15,
   "id": "0bf3c891-9fa6-4672-af7d-21fd97f3284e",
   "metadata": {},
   "outputs": [
    {
     "data": {
      "text/plain": [
       "['gender', 'race/ethnicity', 'lunch', 'test preparation course']"
      ]
     },
     "execution_count": 15,
     "metadata": {},
     "output_type": "execute_result"
    }
   ],
   "source": [
    "categorical_df=[feature for feature in categorical_df if feature != 'parental level of education']\n",
    "categorical_df "
   ]
  },
  {
   "cell_type": "raw",
   "id": "541c4b69-6b32-450c-a7a1-1485462bdc46",
   "metadata": {},
   "source": [
    "scaler ---> numerical_df\n",
    "one hot encoder --> categorical_df\n",
    "ordical encoder ---> parental level of education"
   ]
  },
  {
   "cell_type": "code",
   "execution_count": 20,
   "id": "86d85a03-87c7-4510-bce4-e3526738da3b",
   "metadata": {},
   "outputs": [],
   "source": [
    "scaler =StandardScaler()\n",
    "one_hot_encoder=OneHotEncoder()\n",
    "ordinal_encoder=OrdinalEncoder()"
   ]
  },
  {
   "cell_type": "code",
   "execution_count": 21,
   "id": "d5c2b893-7b76-46ff-8b7a-01394a56461f",
   "metadata": {},
   "outputs": [
    {
     "data": {
      "text/plain": [
       "some college          226\n",
       "associate's degree    222\n",
       "high school           196\n",
       "some high school      179\n",
       "bachelor's degree     118\n",
       "master's degree        59\n",
       "Name: parental level of education, dtype: int64"
      ]
     },
     "execution_count": 21,
     "metadata": {},
     "output_type": "execute_result"
    }
   ],
   "source": [
    "df['parental level of education'].value_counts()"
   ]
  },
  {
   "cell_type": "code",
   "execution_count": 22,
   "id": "10e9aec4-5d9a-4e78-adaa-98dd0694ab05",
   "metadata": {},
   "outputs": [],
   "source": [
    "ordinal_encoder=OrdinalEncoder(categories=[['some high school','high school','some college',\n",
    "                                             \"associate's degree\",\"bachelor's degree\",\n",
    "                                            \"master's degree\"]])"
   ]
  },
  {
   "cell_type": "code",
   "execution_count": 23,
   "id": "4f84ad3c-5353-4917-b84d-d975a3a46761",
   "metadata": {},
   "outputs": [],
   "source": [
    "# handle categorical data\n",
    "preprocessing = ColumnTransformer([\n",
    "    ('OneHotEncoder',one_hot_encoder,categorical_df),\n",
    "    ('OrdinalEncoder',ordinal_encoder,['parental level of education']),\n",
    "    ('StandardScaler',scaler,numerical_df)\n",
    "\n",
    "])"
   ]
  },
  {
   "cell_type": "code",
   "execution_count": 24,
   "id": "aa338642-c021-4aad-8ada-8823066e326e",
   "metadata": {},
   "outputs": [
    {
     "data": {
      "text/plain": [
       "array([[ 1.        ,  0.        ,  0.        , ...,  4.        ,\n",
       "         0.19399858,  0.39149181],\n",
       "       [ 1.        ,  0.        ,  0.        , ...,  2.        ,\n",
       "         1.42747598,  1.31326868],\n",
       "       [ 1.        ,  0.        ,  0.        , ...,  5.        ,\n",
       "         1.77010859,  1.64247471],\n",
       "       ...,\n",
       "       [ 1.        ,  0.        ,  0.        , ...,  1.        ,\n",
       "         0.12547206, -0.20107904],\n",
       "       [ 1.        ,  0.        ,  0.        , ...,  2.        ,\n",
       "         0.60515772,  0.58901542],\n",
       "       [ 1.        ,  0.        ,  0.        , ...,  2.        ,\n",
       "         1.15336989,  1.18158627]])"
      ]
     },
     "execution_count": 24,
     "metadata": {},
     "output_type": "execute_result"
    }
   ],
   "source": [
    "x=preprocessing.fit_transform(x)\n",
    "x"
   ]
  },
  {
   "cell_type": "markdown",
   "id": "942dfe1c-24de-4436-8a1c-0086ff54bcd5",
   "metadata": {},
   "source": [
    "# 6-Splitting Data into Train & Test"
   ]
  },
  {
   "cell_type": "code",
   "execution_count": 25,
   "id": "a5e81299-4433-4bdb-b11e-adbfdf87b716",
   "metadata": {},
   "outputs": [],
   "source": [
    "# split data\n",
    "x_train,x_test,y_train,y_test= train_test_split(x,y, test_size=0.25,random_state=42)"
   ]
  },
  {
   "cell_type": "code",
   "execution_count": 26,
   "id": "922f55cc-b61a-4374-ae2d-2be5cb4ea837",
   "metadata": {},
   "outputs": [
    {
     "name": "stdout",
     "output_type": "stream",
     "text": [
      "x_train shape (750, 14)\n",
      "x_test shape (250, 14)\n",
      "y_train shape (750,)\n",
      "y_test shape (250,)\n"
     ]
    }
   ],
   "source": [
    "print('x_train shape',x_train.shape)\n",
    "print('x_test shape',x_test.shape)\n",
    "print('y_train shape',y_train.shape)\n",
    "print('y_test shape',y_test.shape)"
   ]
  },
  {
   "cell_type": "markdown",
   "id": "9cda14c8-1030-4cbf-981f-9cbb4796906b",
   "metadata": {},
   "source": [
    "# 7-Training Regression Models"
   ]
  },
  {
   "cell_type": "raw",
   "id": "88fd1e58-d6df-4571-b2d2-94a24048137d",
   "metadata": {},
   "source": [
    "Regression model:\n",
    "  1- Linear Regression \n",
    "  2-Knn Regression \n",
    "  3- Decission Tree Regression \n",
    "  4- Random Forest Regessor \n",
    "  5- XGBOOST Regressor"
   ]
  },
  {
   "cell_type": "code",
   "execution_count": 27,
   "id": "e004714c-c2aa-4f99-a786-9e093c026735",
   "metadata": {},
   "outputs": [],
   "source": [
    "# function to calculate errors to simlify the code \n",
    "def evaluate_model(actual,predicted):\n",
    "    MAE=mean_absolute_error(actual,predicted)\n",
    "    MSE=mean_squared_error(actual,predicted)\n",
    "    RMSE=np.sqrt(mean_squared_error(actual,predicted))\n",
    "    R2_Score=r2_score(actual,predicted)\n",
    "\n",
    "    return MAE ,MSE,RMSE, R2_Score\n"
   ]
  },
  {
   "cell_type": "code",
   "execution_count": 28,
   "id": "4dd3a544-5755-4dfd-9acb-9f1284d4ffb3",
   "metadata": {},
   "outputs": [],
   "source": [
    "models={\n",
    "    'Linear Regression':LinearRegression(),\n",
    "    'Knn Regression':KNeighborsRegressor(),\n",
    "    'Decission Tree':DecisionTreeRegressor(),\n",
    "    'Random Forest':RandomForestRegressor(),\n",
    "    'XGB model':XGBRegressor()\n",
    "}\n",
    "\n"
   ]
  },
  {
   "cell_type": "code",
   "execution_count": 29,
   "id": "a402216a-b8f5-4982-aec7-412a5895acc5",
   "metadata": {},
   "outputs": [],
   "source": [
    "models_list=[]\n",
    "r2_list=[]"
   ]
  },
  {
   "cell_type": "code",
   "execution_count": 30,
   "id": "3cd78fad-eb8b-4ca3-8957-5612290cec1b",
   "metadata": {},
   "outputs": [
    {
     "name": "stdout",
     "output_type": "stream",
     "text": [
      "Linear Regression\n",
      "model training performance:\n",
      "mean bsolute error = 4.248659520180561\n",
      "mean squared error = 28.198427765300362\n",
      "Root mean squared error = 5.310219182416143\n",
      "R2 score Error = 0.8736566142040182\n",
      "----------------------------------------------\n",
      "model testing performance:\n",
      "mean bsolute error = 4.334804989219556\n",
      "mean squared error = 29.983498645952608\n",
      "Root mean squared error = 5.4757190072128985\n",
      "R2 score Error = 0.878127598546635\n",
      "\n",
      "\n",
      "Knn Regression\n",
      "model training performance:\n",
      "mean bsolute error = 4.525066666666667\n",
      "mean squared error = 32.21136\n",
      "Root mean squared error = 5.6755052638509635\n",
      "R2 score Error = 0.8556766243364382\n",
      "----------------------------------------------\n",
      "model testing performance:\n",
      "mean bsolute error = 5.6168000000000005\n",
      "mean squared error = 51.04559999999999\n",
      "Root mean squared error = 7.1446203538046715\n",
      "R2 score Error = 0.7925175467650889\n",
      "\n",
      "\n",
      "Decission Tree\n",
      "model training performance:\n",
      "mean bsolute error = 0.02\n",
      "mean squared error = 0.08333333333333333\n",
      "Root mean squared error = 0.28867513459481287\n",
      "R2 score Error = 0.9996266240241963\n",
      "----------------------------------------------\n",
      "model testing performance:\n",
      "mean bsolute error = 6.124\n",
      "mean squared error = 59.612\n",
      "Root mean squared error = 7.720880778771293\n",
      "R2 score Error = 0.7576981365242151\n",
      "\n",
      "\n",
      "Random Forest\n",
      "model training performance:\n",
      "mean bsolute error = 1.8165377777777776\n",
      "mean squared error = 5.200043512962962\n",
      "Root mean squared error = 2.280360391026594\n",
      "R2 score Error = 0.9767011441495106\n",
      "----------------------------------------------\n",
      "model testing performance:\n",
      "mean bsolute error = 4.660163333333334\n",
      "mean squared error = 37.10003348055555\n",
      "Root mean squared error = 6.090979681509006\n",
      "R2 score Error = 0.8492013814776787\n",
      "\n",
      "\n",
      "XGB model\n",
      "model training performance:\n",
      "mean bsolute error = 0.5829646873474121\n",
      "mean squared error = 0.7865253323209872\n",
      "Root mean squared error = 0.886862634414703\n",
      "R2 score Error = 0.9964759640386041\n",
      "----------------------------------------------\n",
      "model testing performance:\n",
      "mean bsolute error = 5.1845814208984375\n",
      "mean squared error = 42.4646643425299\n",
      "Root mean squared error = 6.516491720437455\n",
      "R2 score Error = 0.8273960393533397\n",
      "\n",
      "\n"
     ]
    }
   ],
   "source": [
    "for i in range(len(list(models))):\n",
    "    # models---> values\n",
    "    model = list(models.values())[i]\n",
    "    model.fit(x_train ,y_train)\n",
    "\n",
    "    # model prediction \n",
    "    y_train_pred =model.predict(x_train)\n",
    "    y_test_pred= model.predict(x_test)\n",
    "\n",
    "    # model evaluation \n",
    "    train_MAE, train_MSE,train_RMSE, train_R2=evaluate_model(y_train ,y_train_pred)\n",
    "    test_MAE, test_MSE,test_RMSE, test_R2=evaluate_model(y_test,y_test_pred)\n",
    "\n",
    "    print (list(models.keys())[i])\n",
    "    models_list.append(list(models.keys())[i])\n",
    "    \n",
    "    print('model training performance:')\n",
    "    print ('mean bsolute error =',train_MAE)\n",
    "    print ('mean squared error =',train_MSE)\n",
    "    print ('Root mean squared error =',train_RMSE)\n",
    "    print('R2 score Error =',train_R2)\n",
    "    \n",
    "    print(\"----------------------------------------------\")\n",
    "    print('model testing performance:')\n",
    "    print ('mean bsolute error =',test_MAE)\n",
    "    print ('mean squared error =',test_MSE)\n",
    "    print ('Root mean squared error =',test_RMSE)\n",
    "    print('R2 score Error =',test_R2)\n",
    "    print('\\n')\n",
    "\n",
    "    r2_list.append( test_R2)\n"
   ]
  },
  {
   "cell_type": "code",
   "execution_count": 31,
   "id": "8d247d98-5016-49c5-9c65-48f1f1e11afd",
   "metadata": {},
   "outputs": [
    {
     "data": {
      "text/html": [
       "<div>\n",
       "<style scoped>\n",
       "    .dataframe tbody tr th:only-of-type {\n",
       "        vertical-align: middle;\n",
       "    }\n",
       "\n",
       "    .dataframe tbody tr th {\n",
       "        vertical-align: top;\n",
       "    }\n",
       "\n",
       "    .dataframe thead th {\n",
       "        text-align: right;\n",
       "    }\n",
       "</style>\n",
       "<table border=\"1\" class=\"dataframe\">\n",
       "  <thead>\n",
       "    <tr style=\"text-align: right;\">\n",
       "      <th></th>\n",
       "      <th>Model Name</th>\n",
       "      <th>R2_score</th>\n",
       "    </tr>\n",
       "  </thead>\n",
       "  <tbody>\n",
       "    <tr>\n",
       "      <th>0</th>\n",
       "      <td>Linear Regression</td>\n",
       "      <td>0.878128</td>\n",
       "    </tr>\n",
       "    <tr>\n",
       "      <th>3</th>\n",
       "      <td>Random Forest</td>\n",
       "      <td>0.849201</td>\n",
       "    </tr>\n",
       "    <tr>\n",
       "      <th>4</th>\n",
       "      <td>XGB model</td>\n",
       "      <td>0.827396</td>\n",
       "    </tr>\n",
       "    <tr>\n",
       "      <th>1</th>\n",
       "      <td>Knn Regression</td>\n",
       "      <td>0.792518</td>\n",
       "    </tr>\n",
       "    <tr>\n",
       "      <th>2</th>\n",
       "      <td>Decission Tree</td>\n",
       "      <td>0.757698</td>\n",
       "    </tr>\n",
       "  </tbody>\n",
       "</table>\n",
       "</div>"
      ],
      "text/plain": [
       "         Model Name   R2_score\n",
       "0  Linear Regression  0.878128\n",
       "3      Random Forest  0.849201\n",
       "4          XGB model  0.827396\n",
       "1     Knn Regression  0.792518\n",
       "2     Decission Tree  0.757698"
      ]
     },
     "execution_count": 31,
     "metadata": {},
     "output_type": "execute_result"
    }
   ],
   "source": [
    "scores_df=pd.DataFrame(list(zip(models_list,r2_list)),\n",
    "                       columns=['Model Name ','R2_score']).sort_values(by=['R2_score'],ascending=False)\n",
    "scores_df"
   ]
  },
  {
   "cell_type": "code",
   "execution_count": 32,
   "id": "f3c76a4e-8805-428d-9b7b-75712f826ce6",
   "metadata": {},
   "outputs": [],
   "source": [
    "# LLinearRegression \n",
    "model = LinearRegression()\n",
    "model.fit(x_train,y_train )\n",
    "y_pred = model.predict(x_test)\n"
   ]
  },
  {
   "cell_type": "code",
   "execution_count": 33,
   "id": "94eba493-27df-476f-b2f5-f4385b8299d8",
   "metadata": {},
   "outputs": [
    {
     "data": {
      "image/png": "[encoded data removed]",
      "text/plain": [
       "<Figure size 640x480 with 1 Axes>"
      ]
     },
     "metadata": {},
     "output_type": "display_data"
    }
   ],
   "source": [
    "plt.scatter(y_test,y_pred)\n",
    "plt.xlabel('Actual Data')\n",
    "plt.ylabel('Predicted Data')\n",
    "plt.title('Linear Regression ')\n",
    "plt.show()"
   ]
  },
  {
   "cell_type": "code",
   "execution_count": 34,
   "id": "80e6af71-cfb6-425a-b6a2-cee4f2d21a74",
   "metadata": {},
   "outputs": [
    {
     "data": {
      "image/png": "[encoded data removed]",
      "text/plain": [
       "<Figure size 640x480 with 1 Axes>"
      ]
     },
     "metadata": {},
     "output_type": "display_data"
    }
   ],
   "source": [
    "sns.regplot(x=y_test,y=y_pred, color ='red' )\n",
    "plt.show()"
   ]
  },
  {
   "cell_type": "code",
   "execution_count": 35,
   "id": "e8ec6d14-673a-4422-bf29-d4ccc2353d2f",
   "metadata": {},
   "outputs": [],
   "source": [
    "prediction_df = pd.DataFrame({'Actual Vales': y_test, \n",
    "                              'predicted': y_pred,\n",
    "                             'Deffirance': y_test - y_pred})"
   ]
  },
  {
   "cell_type": "code",
   "execution_count": null,
   "id": "c416c4e2-1ce4-433d-b0b2-a50a53374a80",
   "metadata": {},
   "outputs": [],
   "source": []
  }
 ],
 "metadata": {
  "kernelspec": {
   "display_name": "Python 3 (ipykernel)",
   "language": "python",
   "name": "python3"
  },
  "language_info": {
   "codemirror_mode": {
    "name": "ipython",
    "version": 3
   },
   "file_extension": ".py",
   "mimetype": "text/x-python",
   "name": "python",
   "nbconvert_exporter": "python",
   "pygments_lexer": "ipython3",
   "version": "3.11.3"
  }
 },
 "nbformat": 4,
 "nbformat_minor": 5
}
